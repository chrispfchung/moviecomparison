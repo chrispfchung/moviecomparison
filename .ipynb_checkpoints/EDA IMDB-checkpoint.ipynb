{
 "cells": [
  {
   "cell_type": "code",
   "execution_count": 21,
   "metadata": {},
   "outputs": [],
   "source": [
    "#lessons I learned:\n",
    "#https://stackoverflow.com/questions/20186344/ipynb-import-another-ipynb-file\n",
    "#https://stackoverflow.com/questions/17098654/how-to-store-a-dataframe-using-pandas\n",
    "#https://stackoverflow.com/questions/30482071/how-to-calculate-mean-values-grouped-on-another-column-in-pandas\n",
    "#https://realpython.com/python-f-strings/\n",
    "#https://stackoverflow.com/questions/48958282/how-do-i-split-a-string-into-several-columns-in-a-dataframe-with-pandas-python\n",
    "#https://stackoverflow.com/questions/11350770/select-by-partial-string-from-a-pandas-dataframe\n",
    "#https://medium.com/dunder-data/selecting-subsets-of-data-in-pandas-6fcd0170be9c"
   ]
  },
  {
   "cell_type": "code",
   "execution_count": 1,
   "metadata": {},
   "outputs": [],
   "source": [
    "import pandas as pd\n",
    "import csv\n",
    "import warnings\n",
    "warnings.simplefilter(action='ignore', category=FutureWarning)\n",
    "pd.options.mode.chained_assignment = None  # default='warn'\n",
    "from functools import reduce\n",
    "\n",
    "\n",
    "import matplotlib.pyplot as plt\n",
    "import numpy as np"
   ]
  },
  {
   "cell_type": "code",
   "execution_count": 2,
   "metadata": {},
   "outputs": [],
   "source": [
    "#load in our dataframe with movies from 1990s to 2019 using pickle\n",
    "results = pd.read_pickle('results.pkl')"
   ]
  },
  {
   "cell_type": "code",
   "execution_count": 3,
   "metadata": {
    "scrolled": true
   },
   "outputs": [
    {
     "data": {
      "text/html": [
       "<div>\n",
       "<style scoped>\n",
       "    .dataframe tbody tr th:only-of-type {\n",
       "        vertical-align: middle;\n",
       "    }\n",
       "\n",
       "    .dataframe tbody tr th {\n",
       "        vertical-align: top;\n",
       "    }\n",
       "\n",
       "    .dataframe thead th {\n",
       "        text-align: right;\n",
       "    }\n",
       "</style>\n",
       "<table border=\"1\" class=\"dataframe\">\n",
       "  <thead>\n",
       "    <tr style=\"text-align: right;\">\n",
       "      <th></th>\n",
       "      <th>primaryTitle</th>\n",
       "      <th>startYear</th>\n",
       "      <th>genres</th>\n",
       "      <th>averageRating</th>\n",
       "      <th>numVotes</th>\n",
       "      <th>runtimeMinutes</th>\n",
       "      <th>titleType</th>\n",
       "      <th>region</th>\n",
       "      <th>titleId</th>\n",
       "    </tr>\n",
       "  </thead>\n",
       "  <tbody>\n",
       "    <tr>\n",
       "      <th>12797</th>\n",
       "      <td>Kate &amp; Leopold</td>\n",
       "      <td>2001</td>\n",
       "      <td>Comedy,Fantasy,Romance</td>\n",
       "      <td>6.4</td>\n",
       "      <td>74330</td>\n",
       "      <td>118</td>\n",
       "      <td>movie</td>\n",
       "      <td>US</td>\n",
       "      <td>tt0035423</td>\n",
       "    </tr>\n",
       "    <tr>\n",
       "      <th>26357</th>\n",
       "      <td>Wenn du groß bist, lieber Adam</td>\n",
       "      <td>1990</td>\n",
       "      <td>Drama,Fantasy</td>\n",
       "      <td>6.9</td>\n",
       "      <td>23</td>\n",
       "      <td>78</td>\n",
       "      <td>movie</td>\n",
       "      <td>US</td>\n",
       "      <td>tt0059900</td>\n",
       "    </tr>\n",
       "    <tr>\n",
       "      <th>30878</th>\n",
       "      <td>The Other Side of the Wind</td>\n",
       "      <td>2018</td>\n",
       "      <td>Drama</td>\n",
       "      <td>6.9</td>\n",
       "      <td>4589</td>\n",
       "      <td>122</td>\n",
       "      <td>movie</td>\n",
       "      <td>US</td>\n",
       "      <td>tt0069049</td>\n",
       "    </tr>\n",
       "    <tr>\n",
       "      <th>36244</th>\n",
       "      <td>Me and the Kid</td>\n",
       "      <td>1993</td>\n",
       "      <td>Comedy,Crime,Drama</td>\n",
       "      <td>5.3</td>\n",
       "      <td>211</td>\n",
       "      <td>94</td>\n",
       "      <td>movie</td>\n",
       "      <td>US</td>\n",
       "      <td>tt0081145</td>\n",
       "    </tr>\n",
       "    <tr>\n",
       "      <th>36467</th>\n",
       "      <td>Vincent and Me</td>\n",
       "      <td>1990</td>\n",
       "      <td>Drama,Family,Fantasy</td>\n",
       "      <td>6.5</td>\n",
       "      <td>278</td>\n",
       "      <td>100</td>\n",
       "      <td>movie</td>\n",
       "      <td>US</td>\n",
       "      <td>tt0081721</td>\n",
       "    </tr>\n",
       "  </tbody>\n",
       "</table>\n",
       "</div>"
      ],
      "text/plain": [
       "                         primaryTitle  startYear                  genres  \\\n",
       "12797                  Kate & Leopold       2001  Comedy,Fantasy,Romance   \n",
       "26357  Wenn du groß bist, lieber Adam       1990           Drama,Fantasy   \n",
       "30878      The Other Side of the Wind       2018                   Drama   \n",
       "36244                  Me and the Kid       1993      Comedy,Crime,Drama   \n",
       "36467                  Vincent and Me       1990    Drama,Family,Fantasy   \n",
       "\n",
       "       averageRating  numVotes  runtimeMinutes titleType region    titleId  \n",
       "12797            6.4     74330             118     movie     US  tt0035423  \n",
       "26357            6.9        23              78     movie     US  tt0059900  \n",
       "30878            6.9      4589             122     movie     US  tt0069049  \n",
       "36244            5.3       211              94     movie     US  tt0081145  \n",
       "36467            6.5       278             100     movie     US  tt0081721  "
      ]
     },
     "execution_count": 3,
     "metadata": {},
     "output_type": "execute_result"
    }
   ],
   "source": [
    "results.head()"
   ]
  },
  {
   "cell_type": "markdown",
   "metadata": {},
   "source": [
    "## Average Rating of US Movies from 1990-2019"
   ]
  },
  {
   "cell_type": "code",
   "execution_count": 20,
   "metadata": {},
   "outputs": [
    {
     "name": "stdout",
     "output_type": "stream",
     "text": [
      "['seaborn-dark', 'seaborn-darkgrid', 'seaborn-ticks', 'fivethirtyeight', 'seaborn-whitegrid', 'classic', '_classic_test', 'fast', 'seaborn-talk', 'seaborn-dark-palette', 'seaborn-bright', 'seaborn-pastel', 'grayscale', 'seaborn-notebook', 'ggplot', 'seaborn-colorblind', 'seaborn-muted', 'seaborn', 'Solarize_Light2', 'seaborn-paper', 'bmh', 'tableau-colorblind10', 'seaborn-white', 'dark_background', 'seaborn-poster', 'seaborn-deep']\n"
     ]
    },
    {
     "data": {
      "image/png": "[encoded data removed]",
      "text/plain": [
       "<Figure size 864x432 with 1 Axes>"
      ]
     },
     "metadata": {},
     "output_type": "display_data"
    }
   ],
   "source": [
    "# Combined average rating of every move at every year\n",
    "allyears_ratings = results.groupby('startYear', as_index=False)['averageRating'].mean() #as_index=True to output Series\n",
    "\n",
    "# Choose style\n",
    "print(plt.style.available)\n",
    "plt.style.use('seaborn-whitegrid')\n",
    "\n",
    "# Create fig,ax object and set scaffold\n",
    "fig, ax = plt.subplots(figsize=(12,6))\n",
    "ax.set(title='Average Rating of US Movies from 1990-2019', xlabel = 'Year', ylabel = 'Average Rating')\n",
    "\n",
    "# Format labels\n",
    "labels = ax.get_xticklabels()\n",
    "plt.setp(labels, horizontalalignment = 'right', rotation=45,)\n",
    "\n",
    "# annotate graph to label 'new companies'\n",
    "thisyear_ratings = allyears_ratings[allyears_ratings['startYear']==2019]['averageRating']\n",
    "# add average rating next to 2019 point,\n",
    "ax.text(2020, thisyear_ratings, '2019 Rating = %s'%(np.round(thisyear_ratings[29], 1)), fontsize=12, verticalalignment='center') #29 yrs since 1990\n",
    "\n",
    "# Plot Graph\n",
    "ax.scatter(allyears_ratings['startYear'], allyears_ratings['averageRating']);\n"
   ]
  },
  {
   "cell_type": "markdown",
   "metadata": {},
   "source": [
    "## Number of Votes on IMDB from 1990-2019"
   ]
  },
  {
   "cell_type": "markdown",
   "metadata": {},
   "source": [
    "I want to see the number of votes for each year. I see that:<br>\n",
    "1. From 1990-1992, there are very few votes.\n",
    "2. Votes begin ramping up 199"
   ]
  },
  {
   "cell_type": "code",
   "execution_count": 73,
   "metadata": {},
   "outputs": [
    {
     "data": {
      "image/png": "[encoded data removed]",
      "text/plain": [
       "<Figure size 864x576 with 1 Axes>"
      ]
     },
     "metadata": {},
     "output_type": "display_data"
    }
   ],
   "source": [
    "#as_index parameter creates series or pandas\n",
    "allyears_numvotes = alldrama.groupby('startYear',as_index=False)['numVotes'].count() \n",
    "\n",
    "# set scaffold\n",
    "fig, ax = plt.subplots(figsize=(12,8))\n",
    "ax.scatter(allyears_numvotes['startYear'], allyears_numvotes['numVotes'])\n",
    "\n",
    "# create labels\n",
    "labels = ax.get_xticklabels()\n",
    "plt.setp(labels, horizontalalignment='right');\n",
    "ax.set(title='Number of Votes on IMDB from 1990-2019', xlabel = 'Year', ylabel = 'Number of Votes');\n",
    "\n"
   ]
  },
  {
   "cell_type": "markdown",
   "metadata": {},
   "source": [
    "## Average Rating of US Comedy Movies from 1990-2019"
   ]
  },
  {
   "cell_type": "code",
   "execution_count": 46,
   "metadata": {},
   "outputs": [
    {
     "data": {
      "text/html": [
       "<div>\n",
       "<style scoped>\n",
       "    .dataframe tbody tr th:only-of-type {\n",
       "        vertical-align: middle;\n",
       "    }\n",
       "\n",
       "    .dataframe tbody tr th {\n",
       "        vertical-align: top;\n",
       "    }\n",
       "\n",
       "    .dataframe thead th {\n",
       "        text-align: right;\n",
       "    }\n",
       "</style>\n",
       "<table border=\"1\" class=\"dataframe\">\n",
       "  <thead>\n",
       "    <tr style=\"text-align: right;\">\n",
       "      <th></th>\n",
       "      <th>primaryTitle</th>\n",
       "      <th>startYear</th>\n",
       "      <th>genres</th>\n",
       "      <th>averageRating</th>\n",
       "      <th>numVotes</th>\n",
       "      <th>runtimeMinutes</th>\n",
       "      <th>titleType</th>\n",
       "      <th>region</th>\n",
       "      <th>titleId</th>\n",
       "    </tr>\n",
       "  </thead>\n",
       "  <tbody>\n",
       "    <tr>\n",
       "      <th>26357</th>\n",
       "      <td>Wenn du groß bist, lieber Adam</td>\n",
       "      <td>1990</td>\n",
       "      <td>Drama,Fantasy</td>\n",
       "      <td>6.9</td>\n",
       "      <td>23</td>\n",
       "      <td>78</td>\n",
       "      <td>movie</td>\n",
       "      <td>US</td>\n",
       "      <td>tt0059900</td>\n",
       "    </tr>\n",
       "    <tr>\n",
       "      <th>30878</th>\n",
       "      <td>The Other Side of the Wind</td>\n",
       "      <td>2018</td>\n",
       "      <td>Drama</td>\n",
       "      <td>6.9</td>\n",
       "      <td>4589</td>\n",
       "      <td>122</td>\n",
       "      <td>movie</td>\n",
       "      <td>US</td>\n",
       "      <td>tt0069049</td>\n",
       "    </tr>\n",
       "    <tr>\n",
       "      <th>36244</th>\n",
       "      <td>Me and the Kid</td>\n",
       "      <td>1993</td>\n",
       "      <td>Comedy,Crime,Drama</td>\n",
       "      <td>5.3</td>\n",
       "      <td>211</td>\n",
       "      <td>94</td>\n",
       "      <td>movie</td>\n",
       "      <td>US</td>\n",
       "      <td>tt0081145</td>\n",
       "    </tr>\n",
       "    <tr>\n",
       "      <th>36467</th>\n",
       "      <td>Vincent and Me</td>\n",
       "      <td>1990</td>\n",
       "      <td>Drama,Family,Fantasy</td>\n",
       "      <td>6.5</td>\n",
       "      <td>278</td>\n",
       "      <td>100</td>\n",
       "      <td>movie</td>\n",
       "      <td>US</td>\n",
       "      <td>tt0081721</td>\n",
       "    </tr>\n",
       "    <tr>\n",
       "      <th>37341</th>\n",
       "      <td>Goodbye Paradise</td>\n",
       "      <td>1991</td>\n",
       "      <td>Drama</td>\n",
       "      <td>7.3</td>\n",
       "      <td>39</td>\n",
       "      <td>101</td>\n",
       "      <td>movie</td>\n",
       "      <td>US</td>\n",
       "      <td>tt0084015</td>\n",
       "    </tr>\n",
       "  </tbody>\n",
       "</table>\n",
       "</div>"
      ],
      "text/plain": [
       "                         primaryTitle  startYear                genres  \\\n",
       "26357  Wenn du groß bist, lieber Adam       1990         Drama,Fantasy   \n",
       "30878      The Other Side of the Wind       2018                 Drama   \n",
       "36244                  Me and the Kid       1993    Comedy,Crime,Drama   \n",
       "36467                  Vincent and Me       1990  Drama,Family,Fantasy   \n",
       "37341                Goodbye Paradise       1991                 Drama   \n",
       "\n",
       "       averageRating  numVotes  runtimeMinutes titleType region    titleId  \n",
       "26357            6.9        23              78     movie     US  tt0059900  \n",
       "30878            6.9      4589             122     movie     US  tt0069049  \n",
       "36244            5.3       211              94     movie     US  tt0081145  \n",
       "36467            6.5       278             100     movie     US  tt0081721  \n",
       "37341            7.3        39             101     movie     US  tt0084015  "
      ]
     },
     "execution_count": 46,
     "metadata": {},
     "output_type": "execute_result"
    }
   ],
   "source": [
    "# initially trying to split the genre values but used a much better method, str.contains()\n",
    "# results.head()['genres'].str.split(', ',)\n",
    "\n",
    "allcomedy = results[results['genres'].str.contains(\"Comedy\")]\n",
    "alldrama = results[results['genres'].str.contains(\"Drama\")]\n",
    "alldrama.head()"
   ]
  },
  {
   "cell_type": "code",
   "execution_count": 45,
   "metadata": {},
   "outputs": [],
   "source": [
    "allyears_comedy = allcomedy.groupby('startYear', as_index=False)['averageRating'].mean()\n",
    "\n",
    "# Choose style\n",
    "print(plt.style.available)\n",
    "plt.style.use('seaborn-whitegrid')\n",
    "\n",
    "# Create fig,ax object and set scaffold\n",
    "fig, ax = plt.subplots(figsize=(12,6))\n",
    "ax.set(title='Average Rating of Comedy Movies from 1990-2019', xlabel = 'Year', ylabel = 'Average Rating')\n",
    "\n",
    "# Format labels\n",
    "labels = ax.get_xticklabels()\n",
    "plt.setp(labels, horizontalalignment = 'right', rotation=45,)\n",
    "\n",
    "# Plot Graph\n",
    "ax.scatter(allyears_ratings['startYear'], allyears_ratings['averageRating']);\n"
   ]
  },
  {
   "cell_type": "code",
   "execution_count": null,
   "metadata": {},
   "outputs": [],
   "source": []
  },
  {
   "cell_type": "code",
   "execution_count": null,
   "metadata": {},
   "outputs": [],
   "source": []
  },
  {
   "cell_type": "code",
   "execution_count": null,
   "metadata": {},
   "outputs": [],
   "source": []
  },
  {
   "cell_type": "code",
   "execution_count": null,
   "metadata": {},
   "outputs": [],
   "source": []
  },
  {
   "cell_type": "code",
   "execution_count": null,
   "metadata": {},
   "outputs": [],
   "source": []
  },
  {
   "cell_type": "code",
   "execution_count": null,
   "metadata": {},
   "outputs": [],
   "source": []
  },
  {
   "cell_type": "code",
   "execution_count": null,
   "metadata": {},
   "outputs": [],
   "source": []
  },
  {
   "cell_type": "code",
   "execution_count": null,
   "metadata": {},
   "outputs": [],
   "source": []
  },
  {
   "cell_type": "code",
   "execution_count": null,
   "metadata": {},
   "outputs": [],
   "source": []
  },
  {
   "cell_type": "code",
   "execution_count": null,
   "metadata": {},
   "outputs": [],
   "source": []
  },
  {
   "cell_type": "code",
   "execution_count": null,
   "metadata": {},
   "outputs": [],
   "source": []
  },
  {
   "cell_type": "code",
   "execution_count": 68,
   "metadata": {},
   "outputs": [
    {
     "name": "stdout",
     "output_type": "stream",
     "text": [
      "['seaborn-dark', 'seaborn-darkgrid', 'seaborn-ticks', 'fivethirtyeight', 'seaborn-whitegrid', 'classic', '_classic_test', 'fast', 'seaborn-talk', 'seaborn-dark-palette', 'seaborn-bright', 'seaborn-pastel', 'grayscale', 'seaborn-notebook', 'ggplot', 'seaborn-colorblind', 'seaborn-muted', 'seaborn', 'Solarize_Light2', 'seaborn-paper', 'bmh', 'tableau-colorblind10', 'seaborn-white', 'dark_background', 'seaborn-poster', 'seaborn-deep']\n"
     ]
    },
    {
     "data": {
      "image/png": "[encoded data removed]",
      "text/plain": [
       "<Figure size 864x432 with 1 Axes>"
      ]
     },
     "metadata": {},
     "output_type": "display_data"
    }
   ],
   "source": [
    "allyears_drama = alldrama.groupby('startYear', as_index=False)['averageRating'].mean()\n",
    "\n",
    "# Choose style\n",
    "print(plt.style.available)\n",
    "plt.style.use('seaborn-whitegrid')\n",
    "\n",
    "# Create fig,ax object and set scaffold\n",
    "fig, ax = plt.subplots(figsize=(12,6))\n",
    "ax.set(title='Average Rating of Drama Movies from 1990-2019', xlabel = 'Year', ylabel = 'Average Rating')\n",
    "\n",
    "# Format labels\n",
    "labels = ax.get_xticklabels()\n",
    "plt.setp(labels, horizontalalignment = 'right', rotation=45,)\n",
    "\n",
    "# Plot Graph\n",
    "ax.scatter(allyears_ratings['startYear'], allyears_ratings['averageRating']);\n"
   ]
  },
  {
   "cell_type": "code",
   "execution_count": null,
   "metadata": {},
   "outputs": [],
   "source": []
  }
 ],
 "metadata": {
  "kernelspec": {
   "display_name": "Python 3",
   "language": "python",
   "name": "python3"
  },
  "language_info": {
   "codemirror_mode": {
    "name": "ipython",
    "version": 3
   },
   "file_extension": ".py",
   "mimetype": "text/x-python",
   "name": "python",
   "nbconvert_exporter": "python",
   "pygments_lexer": "ipython3",
   "version": "3.6.7"
  }
 },
 "nbformat": 4,
 "nbformat_minor": 2
}
