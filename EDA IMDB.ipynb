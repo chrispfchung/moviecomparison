{
 "cells": [
  {
   "cell_type": "code",
   "execution_count": null,
   "metadata": {},
   "outputs": [],
   "source": [
    "#lessons I learned:\n",
    "#https://stackoverflow.com/questions/20186344/ipynb-import-another-ipynb-file\n",
    "#https://stackoverflow.com/questions/17098654/how-to-store-a-dataframe-using-pandas"
   ]
  },
  {
   "cell_type": "code",
   "execution_count": 2,
   "metadata": {},
   "outputs": [],
   "source": [
    "import pandas as pd\n",
    "import csv\n",
    "import warnings\n",
    "warnings.simplefilter(action='ignore', category=FutureWarning)\n",
    "pd.options.mode.chained_assignment = None  # default='warn'\n",
    "from functools import reduce"
   ]
  },
  {
   "cell_type": "code",
   "execution_count": 3,
   "metadata": {},
   "outputs": [],
   "source": [
    "#load in our dataframe with movies from 1990s to 2019 using pickle\n",
    "results = pd.read_pickle('results.pkl')"
   ]
  },
  {
   "cell_type": "code",
   "execution_count": 4,
   "metadata": {},
   "outputs": [
    {
     "data": {
      "text/html": [
       "<div>\n",
       "<style scoped>\n",
       "    .dataframe tbody tr th:only-of-type {\n",
       "        vertical-align: middle;\n",
       "    }\n",
       "\n",
       "    .dataframe tbody tr th {\n",
       "        vertical-align: top;\n",
       "    }\n",
       "\n",
       "    .dataframe thead th {\n",
       "        text-align: right;\n",
       "    }\n",
       "</style>\n",
       "<table border=\"1\" class=\"dataframe\">\n",
       "  <thead>\n",
       "    <tr style=\"text-align: right;\">\n",
       "      <th></th>\n",
       "      <th>primaryTitle</th>\n",
       "      <th>startYear</th>\n",
       "      <th>genres</th>\n",
       "      <th>averageRating</th>\n",
       "      <th>numVotes</th>\n",
       "      <th>runtimeMinutes</th>\n",
       "      <th>titleType</th>\n",
       "      <th>region</th>\n",
       "      <th>titleId</th>\n",
       "    </tr>\n",
       "  </thead>\n",
       "  <tbody>\n",
       "    <tr>\n",
       "      <th>12797</th>\n",
       "      <td>Kate &amp; Leopold</td>\n",
       "      <td>2001</td>\n",
       "      <td>Comedy,Fantasy,Romance</td>\n",
       "      <td>6.4</td>\n",
       "      <td>74330</td>\n",
       "      <td>118</td>\n",
       "      <td>movie</td>\n",
       "      <td>US</td>\n",
       "      <td>tt0035423</td>\n",
       "    </tr>\n",
       "    <tr>\n",
       "      <th>26357</th>\n",
       "      <td>Wenn du groß bist, lieber Adam</td>\n",
       "      <td>1990</td>\n",
       "      <td>Drama,Fantasy</td>\n",
       "      <td>6.9</td>\n",
       "      <td>23</td>\n",
       "      <td>78</td>\n",
       "      <td>movie</td>\n",
       "      <td>US</td>\n",
       "      <td>tt0059900</td>\n",
       "    </tr>\n",
       "    <tr>\n",
       "      <th>30878</th>\n",
       "      <td>The Other Side of the Wind</td>\n",
       "      <td>2018</td>\n",
       "      <td>Drama</td>\n",
       "      <td>6.9</td>\n",
       "      <td>4589</td>\n",
       "      <td>122</td>\n",
       "      <td>movie</td>\n",
       "      <td>US</td>\n",
       "      <td>tt0069049</td>\n",
       "    </tr>\n",
       "    <tr>\n",
       "      <th>36244</th>\n",
       "      <td>Me and the Kid</td>\n",
       "      <td>1993</td>\n",
       "      <td>Comedy,Crime,Drama</td>\n",
       "      <td>5.3</td>\n",
       "      <td>211</td>\n",
       "      <td>94</td>\n",
       "      <td>movie</td>\n",
       "      <td>US</td>\n",
       "      <td>tt0081145</td>\n",
       "    </tr>\n",
       "    <tr>\n",
       "      <th>36467</th>\n",
       "      <td>Vincent and Me</td>\n",
       "      <td>1990</td>\n",
       "      <td>Drama,Family,Fantasy</td>\n",
       "      <td>6.5</td>\n",
       "      <td>278</td>\n",
       "      <td>100</td>\n",
       "      <td>movie</td>\n",
       "      <td>US</td>\n",
       "      <td>tt0081721</td>\n",
       "    </tr>\n",
       "  </tbody>\n",
       "</table>\n",
       "</div>"
      ],
      "text/plain": [
       "                         primaryTitle  startYear                  genres  \\\n",
       "12797                  Kate & Leopold       2001  Comedy,Fantasy,Romance   \n",
       "26357  Wenn du groß bist, lieber Adam       1990           Drama,Fantasy   \n",
       "30878      The Other Side of the Wind       2018                   Drama   \n",
       "36244                  Me and the Kid       1993      Comedy,Crime,Drama   \n",
       "36467                  Vincent and Me       1990    Drama,Family,Fantasy   \n",
       "\n",
       "       averageRating  numVotes  runtimeMinutes titleType region    titleId  \n",
       "12797            6.4     74330             118     movie     US  tt0035423  \n",
       "26357            6.9        23              78     movie     US  tt0059900  \n",
       "30878            6.9      4589             122     movie     US  tt0069049  \n",
       "36244            5.3       211              94     movie     US  tt0081145  \n",
       "36467            6.5       278             100     movie     US  tt0081721  "
      ]
     },
     "execution_count": 4,
     "metadata": {},
     "output_type": "execute_result"
    }
   ],
   "source": [
    "results.head()"
   ]
  },
  {
   "cell_type": "code",
   "execution_count": null,
   "metadata": {},
   "outputs": [],
   "source": []
  }
 ],
 "metadata": {
  "kernelspec": {
   "display_name": "Python 3",
   "language": "python",
   "name": "python3"
  },
  "language_info": {
   "codemirror_mode": {
    "name": "ipython",
    "version": 3
   },
   "file_extension": ".py",
   "mimetype": "text/x-python",
   "name": "python",
   "nbconvert_exporter": "python",
   "pygments_lexer": "ipython3",
   "version": "3.6.7"
  }
 },
 "nbformat": 4,
 "nbformat_minor": 2
}
