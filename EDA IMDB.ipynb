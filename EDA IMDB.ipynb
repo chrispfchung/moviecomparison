{
 "cells": [
  {
   "cell_type": "code",
   "execution_count": null,
   "metadata": {},
   "outputs": [],
   "source": [
    "#lessons I learned:\n",
    "#https://stackoverflow.com/questions/20186344/ipynb-import-another-ipynb-file\n",
    "#https://stackoverflow.com/questions/17098654/how-to-store-a-dataframe-using-pandas\n",
    "#https://stackoverflow.com/questions/30482071/how-to-calculate-mean-values-grouped-on-another-column-in-pandas\n",
    "#https://realpython.com/python-f-strings/\n",
    "#https://stackoverflow.com/questions/48958282/how-do-i-split-a-string-into-several-columns-in-a-dataframe-with-pandas-python\n",
    "#https://stackoverflow.com/questions/11350770/select-by-partial-string-from-a-pandas-dataframe\n",
    "#https://medium.com/dunder-data/selecting-subsets-of-data-in-pandas-6fcd0170be9c\n",
    "#https://matplotlib.org/3.1.1/api/_as_gen/matplotlib.pyplot.legend.html"
   ]
  },
  {
   "cell_type": "code",
   "execution_count": null,
   "metadata": {},
   "outputs": [],
   "source": [
    "import pandas as pd\n",
    "import csv\n",
    "import warnings\n",
    "warnings.simplefilter(action='ignore', category=FutureWarning)\n",
    "pd.options.mode.chained_assignment = None  # default='warn'\n",
    "from functools import reduce\n",
    "\n",
    "\n",
    "import matplotlib.pyplot as plt\n",
    "import numpy as np"
   ]
  },
  {
   "cell_type": "code",
   "execution_count": null,
   "metadata": {},
   "outputs": [],
   "source": [
    "#load in our dataframe with movies from 1990s to 2019 using pickle\n",
    "df = pd.read_pickle('df.pkl')"
   ]
  },
  {
   "cell_type": "code",
   "execution_count": null,
   "metadata": {},
   "outputs": [],
   "source": []
  },
  {
   "cell_type": "code",
   "execution_count": null,
   "metadata": {
    "scrolled": true
   },
   "outputs": [],
   "source": [
    "df.head()"
   ]
  },
  {
   "cell_type": "markdown",
   "metadata": {},
   "source": [
    "## Introduction"
   ]
  },
  {
   "cell_type": "markdown",
   "metadata": {},
   "source": []
  },
  {
   "cell_type": "markdown",
   "metadata": {},
   "source": [
    "## Average Rating of US Movies from 1990-2019"
   ]
  },
  {
   "cell_type": "code",
   "execution_count": null,
   "metadata": {},
   "outputs": [],
   "source": [
    "# Combined average rating of every move at every year\n",
    "allyears_ratings = df.groupby('startYear', as_index=False)['averageRating'].mean() #as_index=True to output Series\n",
    "\n",
    "# Choose style\n",
    "print(plt.style.available)\n",
    "plt.style.use('seaborn-whitegrid')\n",
    "\n",
    "# Create fig,ax object and set scaffold\n",
    "fig, ax = plt.subplots(figsize=(12,6))\n",
    "ax.set(title='Average Rating of US Movies from 1990-2019', xlabel = 'Year', ylabel = 'Average Rating')\n",
    "\n",
    "# Format labels\n",
    "labels = ax.get_xticklabels()\n",
    "plt.setp(labels, horizontalalignment = 'right', rotation=45,)\n",
    "\n",
    "# annotate graph to label 'new companies'\n",
    "thisyear_ratings = allyears_ratings[allyears_ratings['startYear']==2019]['averageRating']\n",
    "# add average rating next to 2019 point,\n",
    "ax.text(2020, thisyear_ratings, '2019 Rating = %s'%(np.round(thisyear_ratings[29], 1)), fontsize=12, verticalalignment='center') #29 yrs since 1990\n",
    "\n",
    "# Plot Graph\n",
    "ax.scatter(allyears_ratings['startYear'], allyears_ratings['averageRating']);\n"
   ]
  },
  {
   "cell_type": "markdown",
   "metadata": {},
   "source": [
    "## Number of Votes on IMDB from 1990-2019"
   ]
  },
  {
   "cell_type": "markdown",
   "metadata": {},
   "source": [
    "I want to see the number of votes for each year. I see that:<br>\n",
    "1. From 1990-1992, there are very few votes.\n",
    "2. Votes begin ramping up 199"
   ]
  },
  {
   "cell_type": "code",
   "execution_count": null,
   "metadata": {},
   "outputs": [],
   "source": [
    "#as_index parameter creates series or pandas\n",
    "allyears_numvotes = alldrama.groupby('startYear',as_index=False)['numVotes'].count() \n",
    "\n",
    "# set scaffold\n",
    "fig, ax = plt.subplots(figsize=(12,8))\n",
    "ax.scatter(allyears_numvotes['startYear'], allyears_numvotes['numVotes'])\n",
    "\n",
    "# create labels\n",
    "labels = ax.get_xticklabels()\n",
    "plt.setp(labels, horizontalalignment='right');\n",
    "ax.set(title='Number of Votes on IMDB from 1990-2019', xlabel = 'Year', ylabel = 'Number of Votes');\n",
    "\n"
   ]
  },
  {
   "cell_type": "markdown",
   "metadata": {},
   "source": [
    "## Average Rating of US Comedy Movies from 1990-2019"
   ]
  },
  {
   "cell_type": "code",
   "execution_count": null,
   "metadata": {},
   "outputs": [],
   "source": [
    "# initially trying to split the genre values using split() but used a much better method, str.contains()\n",
    "\n",
    "allcomedy = df[df['genres'].str.contains(\"Comedy\")]\n",
    "\n",
    "allyears_comedy = allcomedy.groupby('startYear', as_index=False)['averageRating'].mean()\n",
    "\n",
    "# Choose style\n",
    "print(plt.style.available)\n",
    "plt.style.use('seaborn-darkgrid')\n",
    "\n",
    "# Create fig,ax object and set scaffold\n",
    "fig, ax = plt.subplots(figsize=(12,6))\n",
    "ax.set(title='Average Rating of Comedy Movies from 1990-2019', xlabel = 'Year', ylabel = 'Average Rating')\n",
    "\n",
    "# Format labels\n",
    "labels = ax.get_xticklabels()\n",
    "plt.setp(labels, horizontalalignment = 'right', rotation=45,)\n",
    "\n",
    "# Plot Graph\n",
    "ax.scatter(allyears_comedy['startYear'], allyears_comedy['averageRating']);\n"
   ]
  },
  {
   "cell_type": "markdown",
   "metadata": {},
   "source": [
    "## Average Rating of Drama Movies from 1990-2019"
   ]
  },
  {
   "cell_type": "code",
   "execution_count": null,
   "metadata": {},
   "outputs": [],
   "source": [
    "alldrama = df[df['genres'].str.contains(\"Drama\")]\n",
    "alldrama.head()"
   ]
  },
  {
   "cell_type": "code",
   "execution_count": null,
   "metadata": {},
   "outputs": [],
   "source": [
    "allyears_drama = alldrama.groupby('startYear', as_index=False)['averageRating'].mean()\n",
    "\n",
    "# Choose style\n",
    "print(plt.style.available)\n",
    "plt.style.use('seaborn-darkgrid')\n",
    "\n",
    "# Create fig,ax object and set scaffold\n",
    "fig, ax = plt.subplots(figsize=(12,6))\n",
    "ax.set(title='Average Rating of Drama Movies from 1990-2019', xlabel = 'Year', ylabel = 'Average Rating')\n",
    "\n",
    "# Format labels\n",
    "labels = ax.get_xticklabels()\n",
    "plt.setp(labels, horizontalalignment = 'right', rotation=45,)\n",
    "\n",
    "# Plot Graph\n",
    "ax.scatter(allyears_drama['startYear'], allyears_drama['averageRating']);"
   ]
  },
  {
   "cell_type": "markdown",
   "metadata": {},
   "source": [
    "## Visualizing Data for Movies Over an Hour"
   ]
  },
  {
   "cell_type": "code",
   "execution_count": null,
   "metadata": {},
   "outputs": [],
   "source": [
    "allmovies_overhour = df[df['runtimeMinutes'] >= 60]\n",
    "allcomedy_overhour = allmovies_overhour[allmovies_overhour['genres'].str.contains('Comedy')]\n",
    "alldrama_overhour = allmovies_overhour[allmovies_overhour['genres'].str.contains('Drama')]\n",
    "alldrama_overhour.head()"
   ]
  },
  {
   "cell_type": "code",
   "execution_count": null,
   "metadata": {},
   "outputs": [],
   "source": [
    "# initially trying to split the genre values using split() but used a much better method, str.contains()\n",
    "\n",
    "allcomedy_overhour = allmovies_overhour[allmovies_overhour['genres'].str.contains('Comedy')]\n",
    "\n",
    "allcomedy_overhour = allcomedy_overhour.groupby('startYear', as_index=False)['averageRating'].mean()\n",
    "\n",
    "# Choose style\n",
    "print(plt.style.available)\n",
    "plt.style.use('seaborn-darkgrid')\n",
    "\n",
    "# Create fig,ax object and set scaffold\n",
    "fig, ax = plt.subplots(figsize=(12,6))\n",
    "ax.set(title='Average Rating of Comedy Movies Over an Hour Long from 1990-2019', xlabel = 'Year', ylabel = 'Average Rating')\n",
    "\n",
    "# Format labels\n",
    "labels = ax.get_xticklabels()\n",
    "plt.setp(labels, horizontalalignment = 'right', rotation=45,)\n",
    "\n",
    "# Plot Graph\n",
    "ax.scatter(allcomedy_overhour['startYear'], allcomedy_overhour['averageRating']);\n",
    "\n"
   ]
  },
  {
   "cell_type": "code",
   "execution_count": null,
   "metadata": {},
   "outputs": [],
   "source": [
    "# initially trying to split the genre values using split() but used a much better method, str.contains()\n",
    "\n",
    "allcomedy_overhour = allmovies_overhour[allmovies_overhour['genres'].str.contains('Comedy')]\n",
    "\n",
    "allcomedy_overhour = allcomedy_overhour.groupby('startYear', as_index=False)['averageRating'].mean()\n",
    "\n",
    "# Choose style\n",
    "print(plt.style.available)\n",
    "plt.style.use('seaborn-darkgrid')\n",
    "\n",
    "# Create fig,ax object and set scaffold\n",
    "fig, ax = plt.subplots(figsize=(12,6))\n",
    "ax.set(title='Average Rating of Comedy Movies Over an Hour Long from 1990-2019', xlabel = 'Year', ylabel = 'Average Rating')\n",
    "\n",
    "# Format labels\n",
    "labels = ax.get_xticklabels()\n",
    "plt.setp(labels, horizontalalignment = 'right', rotation=45,)\n",
    "\n",
    "# Plot Graph\n",
    "ax.scatter(allcomedy_overhour['startYear'], allcomedy_overhour['averageRating'], label='Comedy Movies Over an Hour Long');\n",
    "ax.scatter(allyears_comedy['startYear'], allyears_comedy['averageRating'], label='All Comedy Movies', marker='');\n",
    "ax.legend()\n",
    "\n",
    "plt.show()"
   ]
  },
  {
   "cell_type": "code",
   "execution_count": null,
   "metadata": {},
   "outputs": [],
   "source": [
    "# initially trying to split the genre values using split() but used a much better method, str.contains()\n",
    "\n",
    "alldrama_overhour = allmovies_overhour[allmovies_overhour['genres'].str.contains('Drama')]\n",
    "\n",
    "alldrama_overhour = alldrama_overhour.groupby('startYear', as_index=False)['averageRating'].mean()\n",
    "\n",
    "# Choose style\n",
    "# print(plt.style.available)\n",
    "plt.style.use('fivethirtyeight')\n",
    "\n",
    "# Create fig,ax object and set scaffold\n",
    "fig, ax = plt.subplots(figsize=(12,6))\n",
    "ax.set(title='Avg. Rating of All Drama Movies vs. Drama Movies Over an Hour Long (1990-2019)', xlabel = 'Year', ylabel = 'Average Rating')\n",
    "\n",
    "\n",
    "# Format labels\n",
    "labels = ax.get_xticklabels()\n",
    "plt.setp(labels, horizontalalignment = 'right', rotation=45,)\n",
    "\n",
    "# Plot Graphs\n",
    "ax.scatter(alldrama_overhour['startYear'], alldrama_overhour['averageRating'],label='Drama Movies over an Hour Long');\n",
    "ax.scatter(allyears_drama['startYear'], allyears_drama['averageRating'], c='red', marker='s', label='All Drama Movies');\n",
    "ax.legend();"
   ]
  },
  {
   "cell_type": "code",
   "execution_count": null,
   "metadata": {},
   "outputs": [],
   "source": []
  }
 ],
 "metadata": {
  "kernelspec": {
   "display_name": "Python 3",
   "language": "python",
   "name": "python3"
  },
  "language_info": {
   "codemirror_mode": {
    "name": "ipython",
    "version": 3
   },
   "file_extension": ".py",
   "mimetype": "text/x-python",
   "name": "python",
   "nbconvert_exporter": "python",
   "pygments_lexer": "ipython3",
   "version": "3.6.7"
  }
 },
 "nbformat": 4,
 "nbformat_minor": 2
}
